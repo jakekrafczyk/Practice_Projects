{
 "cells": [
  {
   "cell_type": "markdown",
   "metadata": {
    "collapsed": true
   },
   "source": [
    "# College Graduate Employment Analysis\n",
    "\n",
    "In this project I analyze and visualize a dataset that ranks college graduate majors. Scatter plots, histograms, bin plots and bar plots are used to explore potential correlations with the median salaries for each major. Dataset is released by the American Community Survery and can be found [here](https://github.com/fivethirtyeight/data/tree/master/college-majors)"
   ]
  },
  {
   "cell_type": "code",
   "execution_count": 1,
   "metadata": {
    "collapsed": false
   },
   "outputs": [
    {
     "name": "stdout",
     "output_type": "stream",
     "text": [
      "Rank                                        1\n",
      "Major_code                               2419\n",
      "Major                   PETROLEUM ENGINEERING\n",
      "Total                                    2339\n",
      "Men                                      2057\n",
      "Women                                     282\n",
      "Major_category                    Engineering\n",
      "ShareWomen                           0.120564\n",
      "Sample_size                                36\n",
      "Employed                                 1976\n",
      "Full_time                                1849\n",
      "Part_time                                 270\n",
      "Full_time_year_round                     1207\n",
      "Unemployed                                 37\n",
      "Unemployment_rate                   0.0183805\n",
      "Median                                 110000\n",
      "P25th                                   95000\n",
      "P75th                                  125000\n",
      "College_jobs                             1534\n",
      "Non_college_jobs                          364\n",
      "Low_wage_jobs                             193\n",
      "Name: 0, dtype: object\n",
      "   Rank  Major_code                                      Major    Total  \\\n",
      "0     1        2419                      PETROLEUM ENGINEERING   2339.0   \n",
      "1     2        2416             MINING AND MINERAL ENGINEERING    756.0   \n",
      "2     3        2415                  METALLURGICAL ENGINEERING    856.0   \n",
      "3     4        2417  NAVAL ARCHITECTURE AND MARINE ENGINEERING   1258.0   \n",
      "4     5        2405                       CHEMICAL ENGINEERING  32260.0   \n",
      "\n",
      "       Men    Women Major_category  ShareWomen  Sample_size  Employed  \\\n",
      "0   2057.0    282.0    Engineering    0.120564           36      1976   \n",
      "1    679.0     77.0    Engineering    0.101852            7       640   \n",
      "2    725.0    131.0    Engineering    0.153037            3       648   \n",
      "3   1123.0    135.0    Engineering    0.107313           16       758   \n",
      "4  21239.0  11021.0    Engineering    0.341631          289     25694   \n",
      "\n",
      "       ...        Part_time  Full_time_year_round  Unemployed  \\\n",
      "0      ...              270                  1207          37   \n",
      "1      ...              170                   388          85   \n",
      "2      ...              133                   340          16   \n",
      "3      ...              150                   692          40   \n",
      "4      ...             5180                 16697        1672   \n",
      "\n",
      "   Unemployment_rate  Median  P25th   P75th  College_jobs  Non_college_jobs  \\\n",
      "0           0.018381  110000  95000  125000          1534               364   \n",
      "1           0.117241   75000  55000   90000           350               257   \n",
      "2           0.024096   73000  50000  105000           456               176   \n",
      "3           0.050125   70000  43000   80000           529               102   \n",
      "4           0.061098   65000  50000   75000         18314              4440   \n",
      "\n",
      "   Low_wage_jobs  \n",
      "0            193  \n",
      "1             50  \n",
      "2              0  \n",
      "3              0  \n",
      "4            972  \n",
      "\n",
      "[5 rows x 21 columns]\n",
      "     Rank  Major_code                   Major   Total     Men   Women  \\\n",
      "168   169        3609                 ZOOLOGY  8409.0  3050.0  5359.0   \n",
      "169   170        5201  EDUCATIONAL PSYCHOLOGY  2854.0   522.0  2332.0   \n",
      "170   171        5202     CLINICAL PSYCHOLOGY  2838.0   568.0  2270.0   \n",
      "171   172        5203   COUNSELING PSYCHOLOGY  4626.0   931.0  3695.0   \n",
      "172   173        3501         LIBRARY SCIENCE  1098.0   134.0   964.0   \n",
      "\n",
      "               Major_category  ShareWomen  Sample_size  Employed  \\\n",
      "168    Biology & Life Science    0.637293           47      6259   \n",
      "169  Psychology & Social Work    0.817099            7      2125   \n",
      "170  Psychology & Social Work    0.799859           13      2101   \n",
      "171  Psychology & Social Work    0.798746           21      3777   \n",
      "172                 Education    0.877960            2       742   \n",
      "\n",
      "         ...        Part_time  Full_time_year_round  Unemployed  \\\n",
      "168      ...             2190                  3602         304   \n",
      "169      ...              572                  1211         148   \n",
      "170      ...              648                  1293         368   \n",
      "171      ...              965                  2738         214   \n",
      "172      ...              237                   410          87   \n",
      "\n",
      "     Unemployment_rate  Median  P25th  P75th  College_jobs  Non_college_jobs  \\\n",
      "168           0.046320   26000  20000  39000          2771              2947   \n",
      "169           0.065112   25000  24000  34000          1488               615   \n",
      "170           0.149048   25000  25000  40000           986               870   \n",
      "171           0.053621   23400  19200  26000          2403              1245   \n",
      "172           0.104946   22000  20000  22000           288               338   \n",
      "\n",
      "     Low_wage_jobs  \n",
      "168            743  \n",
      "169             82  \n",
      "170            622  \n",
      "171            308  \n",
      "172            192  \n",
      "\n",
      "[5 rows x 21 columns]\n",
      "             Rank   Major_code          Total            Men          Women  \\\n",
      "count  173.000000   173.000000     172.000000     172.000000     172.000000   \n",
      "mean    87.000000  3879.815029   39370.081395   16723.406977   22646.674419   \n",
      "std     50.084928  1687.753140   63483.491009   28122.433474   41057.330740   \n",
      "min      1.000000  1100.000000     124.000000     119.000000       0.000000   \n",
      "25%     44.000000  2403.000000    4549.750000    2177.500000    1778.250000   \n",
      "50%     87.000000  3608.000000   15104.000000    5434.000000    8386.500000   \n",
      "75%    130.000000  5503.000000   38909.750000   14631.000000   22553.750000   \n",
      "max    173.000000  6403.000000  393735.000000  173809.000000  307087.000000   \n",
      "\n",
      "       ShareWomen  Sample_size       Employed      Full_time      Part_time  \\\n",
      "count  172.000000   173.000000     173.000000     173.000000     173.000000   \n",
      "mean     0.522223   356.080925   31192.763006   26029.306358    8832.398844   \n",
      "std      0.231205   618.361022   50675.002241   42869.655092   14648.179473   \n",
      "min      0.000000     2.000000       0.000000     111.000000       0.000000   \n",
      "25%      0.336026    39.000000    3608.000000    3154.000000    1030.000000   \n",
      "50%      0.534024   130.000000   11797.000000   10048.000000    3299.000000   \n",
      "75%      0.703299   338.000000   31433.000000   25147.000000    9948.000000   \n",
      "max      0.968954  4212.000000  307933.000000  251540.000000  115172.000000   \n",
      "\n",
      "       Full_time_year_round    Unemployed  Unemployment_rate         Median  \\\n",
      "count            173.000000    173.000000         173.000000     173.000000   \n",
      "mean           19694.427746   2416.329480           0.068191   40151.445087   \n",
      "std            33160.941514   4112.803148           0.030331   11470.181802   \n",
      "min              111.000000      0.000000           0.000000   22000.000000   \n",
      "25%             2453.000000    304.000000           0.050306   33000.000000   \n",
      "50%             7413.000000    893.000000           0.067961   36000.000000   \n",
      "75%            16891.000000   2393.000000           0.087557   45000.000000   \n",
      "max           199897.000000  28169.000000           0.177226  110000.000000   \n",
      "\n",
      "              P25th          P75th   College_jobs  Non_college_jobs  \\\n",
      "count    173.000000     173.000000     173.000000        173.000000   \n",
      "mean   29501.445087   51494.219653   12322.635838      13284.497110   \n",
      "std     9166.005235   14906.279740   21299.868863      23789.655363   \n",
      "min    18500.000000   22000.000000       0.000000          0.000000   \n",
      "25%    24000.000000   42000.000000    1675.000000       1591.000000   \n",
      "50%    27000.000000   47000.000000    4390.000000       4595.000000   \n",
      "75%    33000.000000   60000.000000   14444.000000      11783.000000   \n",
      "max    95000.000000  125000.000000  151643.000000     148395.000000   \n",
      "\n",
      "       Low_wage_jobs  \n",
      "count     173.000000  \n",
      "mean     3859.017341  \n",
      "std      6944.998579  \n",
      "min         0.000000  \n",
      "25%       340.000000  \n",
      "50%      1231.000000  \n",
      "75%      3466.000000  \n",
      "max     48207.000000  \n"
     ]
    }
   ],
   "source": [
    "#import data and run matplotplot inline\n",
    "import pandas as pd\n",
    "from pandas.plotting import scatter_matrix\n",
    "import matplotlib.pyplot as plt\n",
    "%matplotlib inline\n",
    "\n",
    "#explore data\n",
    "recent_grads = pd.read_csv('recent-grads.csv')\n",
    "print(recent_grads.iloc[0])\n",
    "print(recent_grads.head())\n",
    "print(recent_grads.tail())\n",
    "print(recent_grads.describe())\n"
   ]
  },
  {
   "cell_type": "code",
   "execution_count": 2,
   "metadata": {
    "collapsed": false
   },
   "outputs": [
    {
     "name": "stdout",
     "output_type": "stream",
     "text": [
      "173\n",
      "172\n"
     ]
    }
   ],
   "source": [
    "#clean data- drop rows with missing values\n",
    "raw_data_count = len(recent_grads)\n",
    "print(raw_data_count)\n",
    "recent_grads = recent_grads.dropna()\n",
    "cleaned_data_count = len(recent_grads)\n",
    "print(cleaned_data_count)"
   ]
  },
  {
   "cell_type": "markdown",
   "metadata": {},
   "source": [
    "# Scatter Plot and  Histogram Analysis"
   ]
  },
  {
   "cell_type": "code",
   "execution_count": 13,
   "metadata": {
    "collapsed": false
   },
   "outputs": [
    {
     "data": {
      "image/png": "[encoded data removed]",
      "text/plain": [
       "<matplotlib.figure.Figure at 0x7ff881a0afd0>"
      ]
     },
     "metadata": {},
     "output_type": "display_data"
    },
    {
     "data": {
      "image/png": "[encoded data removed]",
      "text/plain": [
       "<matplotlib.figure.Figure at 0x7ff881b47358>"
      ]
     },
     "metadata": {},
     "output_type": "display_data"
    }
   ],
   "source": [
    "#IS THERE ANY LINK BETWEEN THE NUMBER OF FULL-TIME EMPLOYEES AND MEDIAN SALARY?\n",
    "#scatter for full time and median\n",
    "ax3 = recent_grads.plot(x='Full_time',y='Median',kind='scatter')\n",
    "ax3.set_title('Full time vs. Median Salary')\n",
    "plt.show()\n",
    "recent_grads.plot.hexbin(x='Full_time',y='Median',gridsize=35);"
   ]
  },
  {
   "cell_type": "markdown",
   "metadata": {},
   "source": [
    "# Findings- Is there any link between the number of full-time employees and median salary?\n",
    "\n",
    "It does not look like there is any significant link between the number of full-time employees and median salary. There are some higher salary values at majors with few full-time employees but there are also a lot of lower salary values. It is likely there are better explanatory variables. "
   ]
  },
  {
   "cell_type": "code",
   "execution_count": null,
   "metadata": {
    "collapsed": false
   },
   "outputs": [],
   "source": [
    "#DO STUDENTS THAT MAJORED IN LARGELY FEMALE-ATTENDED SUBJECTS MAKE LESS MONEY?\n",
    "#scatter for % share women and unemployment rate\n",
    "ax4 = recent_grads.plot(x='ShareWomen',y='Unemployment_rate',kind='scatter')\n",
    "ax4.set_title('% Share Women vs. Unemployment rate')"
   ]
  },
  {
   "cell_type": "code",
   "execution_count": null,
   "metadata": {
    "collapsed": false
   },
   "outputs": [],
   "source": [
    "#scatter for share women and median\n",
    "ax5 = recent_grads.plot(x='ShareWomen',y='Median',kind='scatter')\n",
    "ax5.set_title('% Share Women vs. Median Salary')\n",
    "#scattermatrix for further insight\n",
    "scatter_matrix(recent_grads[['ShareWomen','Median']],figsize=(10,10));"
   ]
  },
  {
   "cell_type": "markdown",
   "metadata": {},
   "source": [
    "# Findings- Do students that majored in largely female-attended subjects make less money?\n",
    "\n",
    "The unemployment comparison does not bring us much insight as the points are widely scattered with no significant pattern. However, the scatter plot median salary comparison shows students in largely female-attended subjects do make less money. The histogram also appears to show that there is a higher share of females in most classes. "
   ]
  },
  {
   "cell_type": "code",
   "execution_count": null,
   "metadata": {
    "collapsed": false
   },
   "outputs": [],
   "source": [
    "#DO STUDENTS IN MORE POPULAR MAJORS MAKE MORE MONEY?\n",
    "#scatter for men and median\n",
    "ax6 = recent_grads.plot(x='Men',y='Median',kind='scatter')\n",
    "ax6.set_title('Male attendance vs. Median Salary')\n",
    "scatter_matrix(recent_grads[['Men','Median']],figsize=(10,10));"
   ]
  },
  {
   "cell_type": "code",
   "execution_count": null,
   "metadata": {
    "collapsed": false
   },
   "outputs": [],
   "source": [
    "#scatter for women and median\n",
    "ax6 = recent_grads.plot(x='Women',y='Median',kind='scatter')\n",
    "ax6.set_title('Female attendance vs. Median Salary')\n",
    "scatter_matrix(recent_grads[['Women','Median']],figsize=(10,10));"
   ]
  },
  {
   "cell_type": "markdown",
   "metadata": {},
   "source": [
    "# Findings- Do students in less popular majors make more money?\n",
    "\n",
    "The scatter plot shows that the majors with the highest median salaries are also some of the least popular majors. With that said, the histogram also shows that a very large portion of all majors are less popular, with 50,000 graduates or less, compared to the biggest major which has over 300,000 graduates. Consequentially, this does not mean that all of the least popular majors have high salaries, in fact some of them are very low. For example, students in low popularity majors such as engineering have higher salaries, but students in low popularity majors like library science have very low salaries. Median salaries likely also depend on other factors such as content difficulty and market demand, ie those with a more difficult and marketable skillset will be in higher demand and receive a higher salary. "
   ]
  },
  {
   "cell_type": "code",
   "execution_count": null,
   "metadata": {
    "collapsed": false
   },
   "outputs": [],
   "source": [
    "#WHAT IS THE MOST COMMON MEDIAN SALARY RANGE?\n",
    "#full view histogram for median, intervals of $5000\n",
    "recent_grads['Median'].hist(bins=24,range=(0,120000))"
   ]
  },
  {
   "cell_type": "code",
   "execution_count": null,
   "metadata": {
    "collapsed": false
   },
   "outputs": [],
   "source": [
    "#zoom in to the high density area, intervals of $1000\n",
    "recent_grads['Median'].hist(bins=30,range=(25000,55000))"
   ]
  },
  {
   "cell_type": "markdown",
   "metadata": {},
   "source": [
    "# Findings- What is the most common salary range?\n",
    "\n",
    "At the 5k salary interval, 30-35k is the most common range, with 35-40k being the second most common. However, if we zoom into 1k intervals on these ranges we find that 35-36k is the most common salary range, with 40-41k being the second most common. This is interesting considering neither of these values are within the original interval of 30-35k. The reason for this is that the 30-35k range has a more even distribution of salaries whereas the 35k+ range does not. Also notice both 35-36k and 40-41k show salaries that are just above psychological price points, ie 35k and 40k, which likely explains why they're so common. "
   ]
  },
  {
   "cell_type": "code",
   "execution_count": null,
   "metadata": {
    "collapsed": false
   },
   "outputs": [],
   "source": [
    "#WHAT PERCENT OF MAJORS ARE PREDOMINATELY MALE? FEMALE?\n",
    "#histogram for % share women, intervals of 0.05 or 5%\n",
    "recent_grads['ShareWomen'].hist(bins=20,range=(0,1))"
   ]
  },
  {
   "cell_type": "code",
   "execution_count": null,
   "metadata": {
    "collapsed": false
   },
   "outputs": [],
   "source": [
    "#create frequency tables and convert to pct\n",
    "num_female = 0 \n",
    "num_male = 0\n",
    "for row in recent_grads['ShareWomen']:\n",
    "    if row > .5:\n",
    "        num_female += 1\n",
    "    elif row < .5:\n",
    "        num_male += 1\n",
    "        \n",
    "pct_female_majors = num_female / len(recent_grads['ShareWomen'])\n",
    "pct_male_majors = num_male / len(recent_grads['ShareWomen'])\n",
    "print('Percentage predominately female majors:',pct_female_majors)\n",
    "print('Percentage predominately male majors:',pct_male_majors)"
   ]
  },
  {
   "cell_type": "markdown",
   "metadata": {},
   "source": [
    "# Findings- What percent of Majors are predominately male? Female?\n",
    "\n",
    "From our histogram it appears that there are slightly more majors that are predominately female than there are male. After running our frequency table we find that this is true. 55.8% of all majors are predominately female, and 44.2% are predominately male. "
   ]
  },
  {
   "cell_type": "markdown",
   "metadata": {},
   "source": [
    "# Bar Plots"
   ]
  },
  {
   "cell_type": "code",
   "execution_count": null,
   "metadata": {
    "collapsed": false
   },
   "outputs": [],
   "source": [
    "#first and last 10 rows of % share women\n",
    "bar1 = recent_grads[:10]['ShareWomen'].plot(kind='bar')\n",
    "plt.show()\n",
    "bar2 = recent_grads[-10:]['ShareWomen'].plot(kind='bar')"
   ]
  },
  {
   "cell_type": "code",
   "execution_count": null,
   "metadata": {
    "collapsed": false
   },
   "outputs": [],
   "source": [
    "#first and last 10 rows of unemployment rate\n",
    "ax1 = recent_grads[:10]['Unemployment_rate'].plot(kind='bar')\n",
    "plt.show()\n",
    "ax2 = recent_grads[-10:]['Unemployment_rate'].plot(kind='bar')"
   ]
  },
  {
   "cell_type": "markdown",
   "metadata": {},
   "source": [
    "# Bar Plot findings\n",
    "\n",
    "The last 10 ranked majors have a way higher percent share of females than the first 10, as the first are between 10% and 60% and the last are all around 80%.\n",
    "\n",
    "The unemployment rate is pretty similar between the first and last rows, with the first rows being a little lower on average. The other notable difference is that the variance of the first rows is higher, ranging from 2% to 18%, while the last rows only ranged from 4% to around 15%."
   ]
  }
 ],
 "metadata": {
  "kernelspec": {
   "display_name": "Python 3",
   "language": "python",
   "name": "python3"
  },
  "language_info": {
   "codemirror_mode": {
    "name": "ipython",
    "version": 3
   },
   "file_extension": ".py",
   "mimetype": "text/x-python",
   "name": "python",
   "nbconvert_exporter": "python",
   "pygments_lexer": "ipython3",
   "version": "3.4.3"
  }
 },
 "nbformat": 4,
 "nbformat_minor": 0
}

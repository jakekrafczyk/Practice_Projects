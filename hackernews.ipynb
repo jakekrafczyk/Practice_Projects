{
 "cells": [
  {
   "cell_type": "markdown",
   "metadata": {
    "collapsed": true
   },
   "source": [
    "# Analysis of Hacker News Posts\n",
    "\n",
    "In this project I sort data from the Hacker News website into ask posts, show posts, and other posts, then analyze the ask and show groups to determine which engagement metric is most important for each group. I then use these findings to identify the best time of day to submit a post for each group. \n",
    "\n",
    "Data has been reduced from roughly 300k rows to about 20k rows by removing posts without comments and then taking a random sample from the rest. Original dataset can be found [here](https://www.kaggle.com/hacker-news/hacker-news-posts).\n"
   ]
  },
  {
   "cell_type": "code",
   "execution_count": 1,
   "metadata": {
    "collapsed": false
   },
   "outputs": [
    {
     "data": {
      "text/plain": [
       "[['id', 'title', 'url', 'num_points', 'num_comments', 'author', 'created_at'],\n",
       " ['12224879',\n",
       "  'Interactive Dynamic Video',\n",
       "  'http://www.interactivedynamicvideo.com/',\n",
       "  '386',\n",
       "  '52',\n",
       "  'ne0phyte',\n",
       "  '8/4/2016 11:52'],\n",
       " ['10975351',\n",
       "  'How to Use Open Source and Shut the Fuck Up at the Same Time',\n",
       "  'http://hueniverse.com/2016/01/26/how-to-use-open-source-and-shut-the-fuck-up-at-the-same-time/',\n",
       "  '39',\n",
       "  '10',\n",
       "  'josep2',\n",
       "  '1/26/2016 19:30'],\n",
       " ['11964716',\n",
       "  \"Florida DJs May Face Felony for April Fools' Water Joke\",\n",
       "  'http://www.thewire.com/entertainment/2013/04/florida-djs-april-fools-water-joke/63798/',\n",
       "  '2',\n",
       "  '1',\n",
       "  'vezycash',\n",
       "  '6/23/2016 22:20'],\n",
       " ['11919867',\n",
       "  'Technology ventures: From Idea to Enterprise',\n",
       "  'https://www.amazon.com/Technology-Ventures-Enterprise-Thomas-Byers/dp/0073523429',\n",
       "  '3',\n",
       "  '1',\n",
       "  'hswarna',\n",
       "  '6/17/2016 0:01']]"
      ]
     },
     "execution_count": 1,
     "metadata": {},
     "output_type": "execute_result"
    }
   ],
   "source": [
    "#Import and preview data\n",
    "from csv import reader\n",
    "opened_file = open(\"hacker_news.csv\")\n",
    "read_file = reader(opened_file)\n",
    "hn = list(read_file)\n",
    "hn[0:5]"
   ]
  },
  {
   "cell_type": "code",
   "execution_count": 2,
   "metadata": {
    "collapsed": false
   },
   "outputs": [
    {
     "name": "stdout",
     "output_type": "stream",
     "text": [
      "[['id', 'title', 'url', 'num_points', 'num_comments', 'author', 'created_at']]\n",
      "[['12224879', 'Interactive Dynamic Video', 'http://www.interactivedynamicvideo.com/', '386', '52', 'ne0phyte', '8/4/2016 11:52'], ['10975351', 'How to Use Open Source and Shut the Fuck Up at the Same Time', 'http://hueniverse.com/2016/01/26/how-to-use-open-source-and-shut-the-fuck-up-at-the-same-time/', '39', '10', 'josep2', '1/26/2016 19:30'], ['11964716', \"Florida DJs May Face Felony for April Fools' Water Joke\", 'http://www.thewire.com/entertainment/2013/04/florida-djs-april-fools-water-joke/63798/', '2', '1', 'vezycash', '6/23/2016 22:20'], ['11919867', 'Technology ventures: From Idea to Enterprise', 'https://www.amazon.com/Technology-Ventures-Enterprise-Thomas-Byers/dp/0073523429', '3', '1', 'hswarna', '6/17/2016 0:01'], ['10301696', 'Note by Note: The Making of Steinway L1037 (2007)', 'http://www.nytimes.com/2007/11/07/movies/07stein.html?_r=0', '8', '2', 'walterbell', '9/30/2015 4:12']]\n"
     ]
    }
   ],
   "source": [
    "#Separate column headers from the data\n",
    "headers = hn[0:1]\n",
    "hn = hn[1:]\n",
    "print(headers)\n",
    "print(hn[0:5])"
   ]
  },
  {
   "cell_type": "code",
   "execution_count": 3,
   "metadata": {
    "collapsed": false
   },
   "outputs": [
    {
     "name": "stdout",
     "output_type": "stream",
     "text": [
      "1744\n",
      "1162\n",
      "17194\n"
     ]
    }
   ],
   "source": [
    "#Filter data into ask, show, and other posts\n",
    "ask_posts = []\n",
    "show_posts = []\n",
    "other_posts = []\n",
    "\n",
    "for row in hn:\n",
    "    title = row[1]\n",
    "    if title.lower().startswith('ask hn'):\n",
    "        ask_posts.append(row)\n",
    "    elif title.lower().startswith('show hn'):\n",
    "        show_posts.append(row)\n",
    "    else:\n",
    "        other_posts.append(row)\n",
    "\n",
    "print(len(ask_posts))\n",
    "print(len(show_posts))\n",
    "print(len(other_posts))"
   ]
  },
  {
   "cell_type": "code",
   "execution_count": 4,
   "metadata": {
    "collapsed": false
   },
   "outputs": [
    {
     "name": "stdout",
     "output_type": "stream",
     "text": [
      "14.038417431192661\n",
      "10.31669535283993\n"
     ]
    }
   ],
   "source": [
    "#Find which group of posts receives more comments\n",
    "#find total number of comments for ask posts\n",
    "total_ask_comments = 0\n",
    "for post in ask_posts:\n",
    "    total_ask_comments += int(post[4])\n",
    "    \n",
    "#find average number of comments\n",
    "avg_ask_comments = total_ask_comments / len(ask_posts)\n",
    "print(avg_ask_comments)\n",
    "\n",
    "#find total number of comments for show posts\n",
    "total_show_comments = 0\n",
    "for post in show_posts:\n",
    "    total_show_comments += int(post[4])\n",
    "    \n",
    "#find avg number of comments\n",
    "avg_show_comments = total_show_comments / len(show_posts)\n",
    "print(avg_show_comments)\n"
   ]
  },
  {
   "cell_type": "markdown",
   "metadata": {},
   "source": [
    "# How many comments does a post from each group get on average?\n",
    "\n",
    "Ask posts have an average of 14 comments, while show posts have an average of 10.3, therefore ask posts have more comments. This makes sense considering ask posts are expecting an answer to their question while show posts are primarily there to be viewed."
   ]
  },
  {
   "cell_type": "code",
   "execution_count": 5,
   "metadata": {
    "collapsed": false
   },
   "outputs": [
    {
     "name": "stdout",
     "output_type": "stream",
     "text": [
      "15.061926605504587\n",
      "27.555077452667813\n"
     ]
    }
   ],
   "source": [
    "#Now lets find out which type of post gets more points\n",
    "#find total number of points for ask posts\n",
    "total_ask_points = 0\n",
    "for post in ask_posts:\n",
    "    total_ask_points += int(post[3])\n",
    "    \n",
    "#find average number of points\n",
    "avg_ask_points = total_ask_points / len(ask_posts)\n",
    "print(avg_ask_points)\n",
    "\n",
    "#find total number of points for show posts\n",
    "total_show_points = 0\n",
    "for post in show_posts:\n",
    "    total_show_points += int(post[3])\n",
    "    \n",
    "#find avg number of points\n",
    "avg_show_points = total_show_points / len(show_posts)\n",
    "print(avg_show_points)"
   ]
  },
  {
   "cell_type": "markdown",
   "metadata": {},
   "source": [
    "# How many points does a post from each group get on average?\n",
    "\n",
    "Ask posts have an average of 15.06 points per post, while show posts are higher with an average of 27.55 points per post. This also makes sense since the users posting show posts are typically sharing content that is meant to be useful for other users. "
   ]
  },
  {
   "cell_type": "markdown",
   "metadata": {},
   "source": [
    "# What is the best hour to post an ask post?\n",
    "\n",
    "We found that ask posts receive more comments on average than show posts. For ask posts, users are looking for answers and engagement, so our quality metric will be the number of comments."
   ]
  },
  {
   "cell_type": "code",
   "execution_count": 6,
   "metadata": {
    "collapsed": false
   },
   "outputs": [
    {
     "name": "stdout",
     "output_type": "stream",
     "text": [
      "{'01': 60, '19': 110, '10': 59, '18': 109, '21': 109, '08': 48, '09': 45, '07': 34, '06': 44, '17': 100, '12': 73, '00': 55, '14': 107, '15': 116, '03': 54, '13': 85, '20': 80, '05': 46, '02': 58, '22': 71, '11': 58, '23': 68, '16': 108, '04': 47}\n",
      "{'01': 683, '19': 1188, '10': 793, '18': 1439, '21': 1745, '08': 492, '09': 251, '07': 267, '06': 397, '17': 1146, '12': 687, '00': 447, '14': 1416, '15': 4477, '03': 421, '13': 1253, '20': 1722, '05': 464, '02': 1381, '22': 479, '11': 641, '23': 543, '16': 1814, '04': 337}\n"
     ]
    }
   ],
   "source": [
    "#Determine the number of posts and comments posted at each hour for ask posts\n",
    "import datetime as dt\n",
    "result_list = []\n",
    "for post in ask_posts:\n",
    "    created_at = post[6]\n",
    "    comments = int(post[4])\n",
    "    result_list.append([created_at,comments])\n",
    "    \n",
    "counts_by_hour = {}\n",
    "comments_by_hour = {}\n",
    "for row in result_list:\n",
    "    date = dt.datetime.strptime(row[0],'%m/%d/%Y %H:%M')\n",
    "    hour = date.strftime('%H')\n",
    "    if hour not in counts_by_hour:\n",
    "        counts_by_hour[hour] = 1\n",
    "        comments_by_hour[hour] = row[1]\n",
    "    else:\n",
    "        counts_by_hour[hour] += 1\n",
    "        comments_by_hour[hour] += row[1]\n",
    "print(counts_by_hour)\n",
    "print(comments_by_hour)"
   ]
  },
  {
   "cell_type": "code",
   "execution_count": 7,
   "metadata": {
    "collapsed": false
   },
   "outputs": [
    {
     "name": "stdout",
     "output_type": "stream",
     "text": [
      "[['01', 11.383333333333333], ['19', 10.8], ['10', 13.440677966101696], ['18', 13.20183486238532], ['21', 16.009174311926607], ['08', 10.25], ['09', 5.5777777777777775], ['07', 7.852941176470588], ['06', 9.022727272727273], ['17', 11.46], ['12', 9.41095890410959], ['00', 8.127272727272727], ['14', 13.233644859813085], ['15', 38.5948275862069], ['03', 7.796296296296297], ['13', 14.741176470588234], ['20', 21.525], ['05', 10.08695652173913], ['02', 23.810344827586206], ['22', 6.746478873239437], ['11', 11.051724137931034], ['23', 7.985294117647059], ['16', 16.796296296296298], ['04', 7.170212765957447]]\n"
     ]
    }
   ],
   "source": [
    "#Determine the average number of comments per post at each hour\n",
    "avg_by_hour = []\n",
    "for hour in comments_by_hour:\n",
    "    avg_by_hour.append([hour, comments_by_hour[hour] / counts_by_hour[hour]])\n",
    "print(avg_by_hour)"
   ]
  },
  {
   "cell_type": "code",
   "execution_count": 8,
   "metadata": {
    "collapsed": false
   },
   "outputs": [
    {
     "name": "stdout",
     "output_type": "stream",
     "text": [
      "[[11.383333333333333, '01'], [10.8, '19'], [13.440677966101696, '10'], [13.20183486238532, '18'], [16.009174311926607, '21'], [10.25, '08'], [5.5777777777777775, '09'], [7.852941176470588, '07'], [9.022727272727273, '06'], [11.46, '17'], [9.41095890410959, '12'], [8.127272727272727, '00'], [13.233644859813085, '14'], [38.5948275862069, '15'], [7.796296296296297, '03'], [14.741176470588234, '13'], [21.525, '20'], [10.08695652173913, '05'], [23.810344827586206, '02'], [6.746478873239437, '22'], [11.051724137931034, '11'], [7.985294117647059, '23'], [16.796296296296298, '16'], [7.170212765957447, '04']]\n"
     ]
    }
   ],
   "source": [
    "#Swap order of values in order to sort \n",
    "#the lists in descending order of comments\n",
    "swap_avg_by_hour = []\n",
    "for hour in avg_by_hour:\n",
    "    swap_avg_by_hour.append([hour[1],hour[0]])\n",
    "print(swap_avg_by_hour)"
   ]
  },
  {
   "cell_type": "code",
   "execution_count": 9,
   "metadata": {
    "collapsed": false
   },
   "outputs": [
    {
     "name": "stdout",
     "output_type": "stream",
     "text": [
      "[[38.5948275862069, '15'], [23.810344827586206, '02'], [21.525, '20'], [16.796296296296298, '16'], [16.009174311926607, '21'], [14.741176470588234, '13'], [13.440677966101696, '10'], [13.233644859813085, '14'], [13.20183486238532, '18'], [11.46, '17'], [11.383333333333333, '01'], [11.051724137931034, '11'], [10.8, '19'], [10.25, '08'], [10.08695652173913, '05'], [9.41095890410959, '12'], [9.022727272727273, '06'], [8.127272727272727, '00'], [7.985294117647059, '23'], [7.852941176470588, '07'], [7.796296296296297, '03'], [7.170212765957447, '04'], [6.746478873239437, '22'], [5.5777777777777775, '09']]\n"
     ]
    }
   ],
   "source": [
    "#Sort in descending order\n",
    "sorted_swap = sorted(swap_avg_by_hour, reverse = True)\n",
    "print(sorted_swap)"
   ]
  },
  {
   "cell_type": "code",
   "execution_count": 10,
   "metadata": {
    "collapsed": false
   },
   "outputs": [
    {
     "name": "stdout",
     "output_type": "stream",
     "text": [
      "Top 5 Hours for Ask Posts Comments\n",
      "15:00: 38.59 average comments per post\n",
      "02:00: 23.81 average comments per post\n",
      "20:00: 21.52 average comments per post\n",
      "16:00: 16.80 average comments per post\n",
      "21:00: 16.01 average comments per post\n"
     ]
    }
   ],
   "source": [
    "#Identify the top 5 hours for ask posts comments\n",
    "print(\"Top 5 Hours for Ask Posts Comments\")\n",
    "for avg, hour in sorted_swap[0:5]:\n",
    "    print(\n",
    "    '{}: {:.2f} average comments per post'.format(\n",
    "    dt.datetime.strptime(hour, '%H').strftime('%H:%M'),avg))\n",
    "    "
   ]
  },
  {
   "cell_type": "markdown",
   "metadata": {},
   "source": [
    "# Ask Post findings\n",
    "15:00(3:00 pm EST) is the best time to submit an ask post with an average of 38.59 comments per post, which is significantly higher than the second best time, 2:00(2:00 am EST), which has an average of 23.81 comments per post. "
   ]
  },
  {
   "cell_type": "markdown",
   "metadata": {},
   "source": [
    "# What is the best hour to post a show post?\n",
    "\n",
    "We found that show posts get more points on average than ask posts. For show posts, users are typically more concerned with popularity rather than engagement. So here we'll find the time with the highest average points per post. "
   ]
  },
  {
   "cell_type": "code",
   "execution_count": 11,
   "metadata": {
    "collapsed": false
   },
   "outputs": [
    {
     "name": "stdout",
     "output_type": "stream",
     "text": [
      "{'01': 28, '19': 55, '10': 36, '18': 61, '21': 47, '08': 34, '09': 30, '07': 26, '17': 93, '12': 61, '06': 16, '00': 31, '13': 99, '15': 78, '03': 27, '14': 86, '20': 60, '05': 19, '02': 30, '22': 46, '11': 44, '23': 36, '16': 93, '04': 26}\n",
      "{'01': 700, '19': 1702, '10': 681, '18': 2215, '21': 866, '08': 519, '09': 553, '07': 494, '17': 2521, '12': 2543, '06': 375, '00': 1173, '13': 2438, '15': 2228, '03': 679, '14': 2187, '20': 1819, '05': 104, '02': 340, '22': 1856, '11': 1480, '23': 1526, '16': 2634, '04': 386}\n"
     ]
    }
   ],
   "source": [
    "#Determine the number of posts and points posted at each hour for show posts\n",
    "#can use same script as with show posts- \n",
    "#just swap show_posts for ask_posts and points for comments\n",
    "result_list = []\n",
    "for post in show_posts:\n",
    "    created_at = post[6]\n",
    "    points = int(post[3])\n",
    "    result_list.append([created_at,points])\n",
    "    \n",
    "counts_by_hour = {}\n",
    "points_by_hour = {}\n",
    "for row in result_list:\n",
    "    date = dt.datetime.strptime(row[0],'%m/%d/%Y %H:%M')\n",
    "    hour = date.strftime('%H')\n",
    "    if hour not in counts_by_hour:\n",
    "        counts_by_hour[hour] = 1\n",
    "        points_by_hour[hour] = row[1]\n",
    "    else:\n",
    "        counts_by_hour[hour] += 1\n",
    "        points_by_hour[hour] += row[1]\n",
    "print(counts_by_hour)\n",
    "print(points_by_hour)"
   ]
  },
  {
   "cell_type": "code",
   "execution_count": 12,
   "metadata": {
    "collapsed": false
   },
   "outputs": [
    {
     "name": "stdout",
     "output_type": "stream",
     "text": [
      "[['01', 25.0], ['19', 30.945454545454545], ['10', 18.916666666666668], ['18', 36.31147540983606], ['21', 18.425531914893618], ['08', 15.264705882352942], ['09', 18.433333333333334], ['07', 19.0], ['17', 27.107526881720432], ['12', 41.68852459016394], ['06', 23.4375], ['00', 37.83870967741935], ['13', 24.626262626262626], ['15', 28.564102564102566], ['03', 25.14814814814815], ['14', 25.430232558139537], ['20', 30.316666666666666], ['05', 5.473684210526316], ['02', 11.333333333333334], ['22', 40.34782608695652], ['11', 33.63636363636363], ['23', 42.388888888888886], ['16', 28.322580645161292], ['04', 14.846153846153847]]\n"
     ]
    }
   ],
   "source": [
    "#Determine the average number of points per post at each hour\n",
    "avg_by_hour = []\n",
    "for hour in points_by_hour:\n",
    "    avg_by_hour.append([hour, points_by_hour[hour] / counts_by_hour[hour]])\n",
    "print(avg_by_hour)"
   ]
  },
  {
   "cell_type": "code",
   "execution_count": 13,
   "metadata": {
    "collapsed": false
   },
   "outputs": [
    {
     "name": "stdout",
     "output_type": "stream",
     "text": [
      "[[25.0, '01'], [30.945454545454545, '19'], [18.916666666666668, '10'], [36.31147540983606, '18'], [18.425531914893618, '21'], [15.264705882352942, '08'], [18.433333333333334, '09'], [19.0, '07'], [27.107526881720432, '17'], [41.68852459016394, '12'], [23.4375, '06'], [37.83870967741935, '00'], [24.626262626262626, '13'], [28.564102564102566, '15'], [25.14814814814815, '03'], [25.430232558139537, '14'], [30.316666666666666, '20'], [5.473684210526316, '05'], [11.333333333333334, '02'], [40.34782608695652, '22'], [33.63636363636363, '11'], [42.388888888888886, '23'], [28.322580645161292, '16'], [14.846153846153847, '04']]\n"
     ]
    }
   ],
   "source": [
    "#Swap order of values in order to sort \n",
    "#the lists in descending order of points\n",
    "swap_avg_by_hour = []\n",
    "for hour in avg_by_hour:\n",
    "    swap_avg_by_hour.append([hour[1],hour[0]])\n",
    "print(swap_avg_by_hour)"
   ]
  },
  {
   "cell_type": "code",
   "execution_count": 14,
   "metadata": {
    "collapsed": false
   },
   "outputs": [
    {
     "name": "stdout",
     "output_type": "stream",
     "text": [
      "[[42.388888888888886, '23'], [41.68852459016394, '12'], [40.34782608695652, '22'], [37.83870967741935, '00'], [36.31147540983606, '18'], [33.63636363636363, '11'], [30.945454545454545, '19'], [30.316666666666666, '20'], [28.564102564102566, '15'], [28.322580645161292, '16'], [27.107526881720432, '17'], [25.430232558139537, '14'], [25.14814814814815, '03'], [25.0, '01'], [24.626262626262626, '13'], [23.4375, '06'], [19.0, '07'], [18.916666666666668, '10'], [18.433333333333334, '09'], [18.425531914893618, '21'], [15.264705882352942, '08'], [14.846153846153847, '04'], [11.333333333333334, '02'], [5.473684210526316, '05']]\n"
     ]
    }
   ],
   "source": [
    "#Sort in descending order\n",
    "sorted_swap = sorted(swap_avg_by_hour, reverse = True)\n",
    "print(sorted_swap)"
   ]
  },
  {
   "cell_type": "code",
   "execution_count": 15,
   "metadata": {
    "collapsed": false
   },
   "outputs": [
    {
     "name": "stdout",
     "output_type": "stream",
     "text": [
      "Top 5 Hours for Show Posts Points\n",
      "23:00: 42.39 average points per post\n",
      "12:00: 41.69 average points per post\n",
      "22:00: 40.35 average points per post\n",
      "00:00: 37.84 average points per post\n",
      "18:00: 36.31 average points per post\n"
     ]
    }
   ],
   "source": [
    "#Identify the top 5 hours for show posts points\n",
    "print(\"Top 5 Hours for Show Posts Points\")\n",
    "for avg, hour in sorted_swap[0:5]:\n",
    "    print(\n",
    "    '{}: {:.2f} average points per post'.format(\n",
    "    dt.datetime.strptime(hour, '%H').strftime('%H:%M'),avg))"
   ]
  },
  {
   "cell_type": "markdown",
   "metadata": {},
   "source": [
    "# Show Post findings\n",
    "\n",
    "23:00(11:00 PM EST) is the best time to post a show post with an average of 42.39 points per post, a close second being 12:00(12:00 PM EST) with an average of 41.69 points per post, and third is 22:00(10:00 PM EST) with an average of 40.35 comments per post. "
   ]
  }
 ],
 "metadata": {
  "kernelspec": {
   "display_name": "Python 3",
   "language": "python",
   "name": "python3"
  },
  "language_info": {
   "codemirror_mode": {
    "name": "ipython",
    "version": 3
   },
   "file_extension": ".py",
   "mimetype": "text/x-python",
   "name": "python",
   "nbconvert_exporter": "python",
   "pygments_lexer": "ipython3",
   "version": "3.4.3"
  }
 },
 "nbformat": 4,
 "nbformat_minor": 2
}
